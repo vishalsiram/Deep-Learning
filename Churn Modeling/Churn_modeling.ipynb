{
 "cells": [
  {
   "cell_type": "markdown",
   "metadata": {},
   "source": [
    "# Artificial neural network for churn modelling with 2 hidden layers."
   ]
  },
  {
   "cell_type": "code",
   "execution_count": 1,
   "metadata": {},
   "outputs": [],
   "source": [
    "import numpy as np\n",
    "import pandas as pd\n",
    "import tensorflow as tf"
   ]
  },
  {
   "cell_type": "markdown",
   "metadata": {},
   "source": [
    "## Data Preprocessing"
   ]
  },
  {
   "cell_type": "markdown",
   "metadata": {},
   "source": [
    "### Importing the dataset"
   ]
  },
  {
   "cell_type": "code",
   "execution_count": 40,
   "metadata": {},
   "outputs": [],
   "source": [
    "dataset = pd.read_csv('Churn_Modelling.csv')\n",
    "X = dataset.iloc[:, 3:-1].values\n",
    "y = dataset.iloc[:, -1].values"
   ]
  },
  {
   "cell_type": "code",
   "execution_count": 41,
   "metadata": {},
   "outputs": [
    {
     "data": {
      "text/plain": [
       "array([[619, 'France', 'Female', ..., 1, 1, 101348.88],\n",
       "       [608, 'Spain', 'Female', ..., 0, 1, 112542.58],\n",
       "       [502, 'France', 'Female', ..., 1, 0, 113931.57],\n",
       "       ...,\n",
       "       [709, 'France', 'Female', ..., 0, 1, 42085.58],\n",
       "       [772, 'Germany', 'Male', ..., 1, 0, 92888.52],\n",
       "       [792, 'France', 'Female', ..., 1, 0, 38190.78]], dtype=object)"
      ]
     },
     "execution_count": 41,
     "metadata": {},
     "output_type": "execute_result"
    }
   ],
   "source": [
    "X"
   ]
  },
  {
   "cell_type": "code",
   "execution_count": 9,
   "metadata": {},
   "outputs": [
    {
     "data": {
      "text/html": [
       "<div>\n",
       "<style scoped>\n",
       "    .dataframe tbody tr th:only-of-type {\n",
       "        vertical-align: middle;\n",
       "    }\n",
       "\n",
       "    .dataframe tbody tr th {\n",
       "        vertical-align: top;\n",
       "    }\n",
       "\n",
       "    .dataframe thead th {\n",
       "        text-align: right;\n",
       "    }\n",
       "</style>\n",
       "<table border=\"1\" class=\"dataframe\">\n",
       "  <thead>\n",
       "    <tr style=\"text-align: right;\">\n",
       "      <th></th>\n",
       "      <th>RowNumber</th>\n",
       "      <th>CustomerId</th>\n",
       "      <th>Surname</th>\n",
       "      <th>CreditScore</th>\n",
       "      <th>Geography</th>\n",
       "      <th>Gender</th>\n",
       "      <th>Age</th>\n",
       "      <th>Tenure</th>\n",
       "      <th>Balance</th>\n",
       "      <th>NumOfProducts</th>\n",
       "      <th>HasCrCard</th>\n",
       "      <th>IsActiveMember</th>\n",
       "      <th>EstimatedSalary</th>\n",
       "      <th>Exited</th>\n",
       "    </tr>\n",
       "  </thead>\n",
       "  <tbody>\n",
       "    <tr>\n",
       "      <th>0</th>\n",
       "      <td>1</td>\n",
       "      <td>15634602</td>\n",
       "      <td>Hargrave</td>\n",
       "      <td>619</td>\n",
       "      <td>France</td>\n",
       "      <td>Female</td>\n",
       "      <td>42</td>\n",
       "      <td>2</td>\n",
       "      <td>0.00</td>\n",
       "      <td>1</td>\n",
       "      <td>1</td>\n",
       "      <td>1</td>\n",
       "      <td>101348.88</td>\n",
       "      <td>1</td>\n",
       "    </tr>\n",
       "    <tr>\n",
       "      <th>1</th>\n",
       "      <td>2</td>\n",
       "      <td>15647311</td>\n",
       "      <td>Hill</td>\n",
       "      <td>608</td>\n",
       "      <td>Spain</td>\n",
       "      <td>Female</td>\n",
       "      <td>41</td>\n",
       "      <td>1</td>\n",
       "      <td>83807.86</td>\n",
       "      <td>1</td>\n",
       "      <td>0</td>\n",
       "      <td>1</td>\n",
       "      <td>112542.58</td>\n",
       "      <td>0</td>\n",
       "    </tr>\n",
       "    <tr>\n",
       "      <th>2</th>\n",
       "      <td>3</td>\n",
       "      <td>15619304</td>\n",
       "      <td>Onio</td>\n",
       "      <td>502</td>\n",
       "      <td>France</td>\n",
       "      <td>Female</td>\n",
       "      <td>42</td>\n",
       "      <td>8</td>\n",
       "      <td>159660.80</td>\n",
       "      <td>3</td>\n",
       "      <td>1</td>\n",
       "      <td>0</td>\n",
       "      <td>113931.57</td>\n",
       "      <td>1</td>\n",
       "    </tr>\n",
       "    <tr>\n",
       "      <th>3</th>\n",
       "      <td>4</td>\n",
       "      <td>15701354</td>\n",
       "      <td>Boni</td>\n",
       "      <td>699</td>\n",
       "      <td>France</td>\n",
       "      <td>Female</td>\n",
       "      <td>39</td>\n",
       "      <td>1</td>\n",
       "      <td>0.00</td>\n",
       "      <td>2</td>\n",
       "      <td>0</td>\n",
       "      <td>0</td>\n",
       "      <td>93826.63</td>\n",
       "      <td>0</td>\n",
       "    </tr>\n",
       "    <tr>\n",
       "      <th>4</th>\n",
       "      <td>5</td>\n",
       "      <td>15737888</td>\n",
       "      <td>Mitchell</td>\n",
       "      <td>850</td>\n",
       "      <td>Spain</td>\n",
       "      <td>Female</td>\n",
       "      <td>43</td>\n",
       "      <td>2</td>\n",
       "      <td>125510.82</td>\n",
       "      <td>1</td>\n",
       "      <td>1</td>\n",
       "      <td>1</td>\n",
       "      <td>79084.10</td>\n",
       "      <td>0</td>\n",
       "    </tr>\n",
       "  </tbody>\n",
       "</table>\n",
       "</div>"
      ],
      "text/plain": [
       "   RowNumber  CustomerId   Surname  CreditScore Geography  Gender  Age  \\\n",
       "0          1    15634602  Hargrave          619    France  Female   42   \n",
       "1          2    15647311      Hill          608     Spain  Female   41   \n",
       "2          3    15619304      Onio          502    France  Female   42   \n",
       "3          4    15701354      Boni          699    France  Female   39   \n",
       "4          5    15737888  Mitchell          850     Spain  Female   43   \n",
       "\n",
       "   Tenure    Balance  NumOfProducts  HasCrCard  IsActiveMember  \\\n",
       "0       2       0.00              1          1               1   \n",
       "1       1   83807.86              1          0               1   \n",
       "2       8  159660.80              3          1               0   \n",
       "3       1       0.00              2          0               0   \n",
       "4       2  125510.82              1          1               1   \n",
       "\n",
       "   EstimatedSalary  Exited  \n",
       "0        101348.88       1  \n",
       "1        112542.58       0  \n",
       "2        113931.57       1  \n",
       "3         93826.63       0  \n",
       "4         79084.10       0  "
      ]
     },
     "execution_count": 9,
     "metadata": {},
     "output_type": "execute_result"
    }
   ],
   "source": [
    "dataset.head()"
   ]
  },
  {
   "cell_type": "markdown",
   "metadata": {},
   "source": [
    "### Encoding categorical data"
   ]
  },
  {
   "cell_type": "markdown",
   "metadata": {},
   "source": [
    "Label Encoding the \"Gender\" column"
   ]
  },
  {
   "cell_type": "code",
   "execution_count": 10,
   "metadata": {},
   "outputs": [],
   "source": [
    "from sklearn.preprocessing import LabelEncoder\n",
    "le = LabelEncoder()\n",
    "X[:, 2] = le.fit_transform(X[:, 2])"
   ]
  },
  {
   "cell_type": "markdown",
   "metadata": {},
   "source": [
    "One Hot Encoding the \"Geography\" column"
   ]
  },
  {
   "cell_type": "code",
   "execution_count": 44,
   "metadata": {},
   "outputs": [],
   "source": [
    "from sklearn.compose import ColumnTransformer\n",
    "from sklearn.preprocessing import OneHotEncoder\n",
    "ct = ColumnTransformer(transformers=[('encoder', OneHotEncoder(), [1])], remainder='passthrough')\n",
    "X = np.array(ct.fit_transform(X))"
   ]
  },
  {
   "cell_type": "code",
   "execution_count": 45,
   "metadata": {},
   "outputs": [
    {
     "data": {
      "text/plain": [
       "array([[1.0, 0.0, 0.0, ..., 1, 1, 101348.88],\n",
       "       [0.0, 0.0, 1.0, ..., 0, 1, 112542.58],\n",
       "       [1.0, 0.0, 0.0, ..., 1, 0, 113931.57],\n",
       "       ...,\n",
       "       [1.0, 0.0, 0.0, ..., 0, 1, 42085.58],\n",
       "       [0.0, 1.0, 0.0, ..., 1, 0, 92888.52],\n",
       "       [1.0, 0.0, 0.0, ..., 1, 0, 38190.78]], dtype=object)"
      ]
     },
     "execution_count": 45,
     "metadata": {},
     "output_type": "execute_result"
    }
   ],
   "source": [
    "X"
   ]
  },
  {
   "cell_type": "markdown",
   "metadata": {},
   "source": [
    "### Splitting the dataset into the Training set and Test set"
   ]
  },
  {
   "cell_type": "code",
   "execution_count": 13,
   "metadata": {},
   "outputs": [],
   "source": [
    "from sklearn.model_selection import train_test_split\n",
    "X_train, X_test, y_train, y_test = train_test_split(X, y, test_size = 0.2, random_state = 0)"
   ]
  },
  {
   "cell_type": "markdown",
   "metadata": {},
   "source": [
    "### Feature Scaling"
   ]
  },
  {
   "cell_type": "code",
   "execution_count": 14,
   "metadata": {},
   "outputs": [],
   "source": [
    "from sklearn.preprocessing import StandardScaler\n",
    "sc = StandardScaler()\n",
    "X_train = sc.fit_transform(X_train)\n",
    "X_test = sc.transform(X_test)"
   ]
  },
  {
   "cell_type": "markdown",
   "metadata": {},
   "source": [
    "## Building the ANN"
   ]
  },
  {
   "cell_type": "markdown",
   "metadata": {},
   "source": [
    "### Initializing the ANN"
   ]
  },
  {
   "cell_type": "code",
   "execution_count": 22,
   "metadata": {},
   "outputs": [],
   "source": [
    "ann = tf.keras.models.Sequential()"
   ]
  },
  {
   "cell_type": "markdown",
   "metadata": {},
   "source": [
    "Adding the input layer and the first hidden layer"
   ]
  },
  {
   "cell_type": "code",
   "execution_count": 23,
   "metadata": {},
   "outputs": [],
   "source": [
    "ann.add(tf.keras.layers.Dense(units=6, activation='relu'))"
   ]
  },
  {
   "cell_type": "markdown",
   "metadata": {},
   "source": [
    "\n",
    "Adding the second hidden layer"
   ]
  },
  {
   "cell_type": "code",
   "execution_count": 24,
   "metadata": {},
   "outputs": [],
   "source": [
    "ann.add(tf.keras.layers.Dense(units=6, activation='relu'))"
   ]
  },
  {
   "cell_type": "markdown",
   "metadata": {},
   "source": [
    "Adding the output layer"
   ]
  },
  {
   "cell_type": "code",
   "execution_count": 25,
   "metadata": {},
   "outputs": [],
   "source": [
    "ann.add(tf.keras.layers.Dense(units=1, activation='sigmoid'))"
   ]
  },
  {
   "cell_type": "markdown",
   "metadata": {},
   "source": [
    "### Training the ANN"
   ]
  },
  {
   "cell_type": "code",
   "execution_count": 26,
   "metadata": {},
   "outputs": [],
   "source": [
    "ann.compile(optimizer = 'adam', loss = 'binary_crossentropy', metrics = ['accuracy'])"
   ]
  },
  {
   "cell_type": "code",
   "execution_count": 29,
   "metadata": {},
   "outputs": [
    {
     "name": "stdout",
     "output_type": "stream",
     "text": [
      "Train on 8000 samples\n",
      "Epoch 1/100\n",
      "8000/8000 [==============================] - 0s 19us/sample - loss: 0.3305 - acc: 0.8629\n",
      "Epoch 2/100\n",
      "8000/8000 [==============================] - 0s 19us/sample - loss: 0.3305 - acc: 0.8618\n",
      "Epoch 3/100\n",
      "8000/8000 [==============================] - 0s 19us/sample - loss: 0.3300 - acc: 0.8622\n",
      "Epoch 4/100\n",
      "8000/8000 [==============================] - 0s 19us/sample - loss: 0.3302 - acc: 0.8645\n",
      "Epoch 5/100\n",
      "8000/8000 [==============================] - 0s 19us/sample - loss: 0.3304 - acc: 0.8640\n",
      "Epoch 6/100\n",
      "8000/8000 [==============================] - 0s 19us/sample - loss: 0.3303 - acc: 0.8626\n",
      "Epoch 7/100\n",
      "8000/8000 [==============================] - 0s 19us/sample - loss: 0.3305 - acc: 0.8631\n",
      "Epoch 8/100\n",
      "8000/8000 [==============================] - 0s 19us/sample - loss: 0.3300 - acc: 0.8640\n",
      "Epoch 9/100\n",
      "8000/8000 [==============================] - 0s 19us/sample - loss: 0.3302 - acc: 0.8625\n",
      "Epoch 10/100\n",
      "8000/8000 [==============================] - 0s 19us/sample - loss: 0.3303 - acc: 0.8645\n",
      "Epoch 11/100\n",
      "8000/8000 [==============================] - 0s 27us/sample - loss: 0.3299 - acc: 0.8637\n",
      "Epoch 12/100\n",
      "8000/8000 [==============================] - 0s 36us/sample - loss: 0.3300 - acc: 0.8641\n",
      "Epoch 13/100\n",
      "8000/8000 [==============================] - 0s 19us/sample - loss: 0.3299 - acc: 0.8641\n",
      "Epoch 14/100\n",
      "8000/8000 [==============================] - 0s 19us/sample - loss: 0.3301 - acc: 0.8637\n",
      "Epoch 15/100\n",
      "8000/8000 [==============================] - 0s 19us/sample - loss: 0.3302 - acc: 0.8636\n",
      "Epoch 16/100\n",
      "8000/8000 [==============================] - 0s 19us/sample - loss: 0.3299 - acc: 0.8641\n",
      "Epoch 17/100\n",
      "8000/8000 [==============================] - 0s 20us/sample - loss: 0.3296 - acc: 0.8650\n",
      "Epoch 18/100\n",
      "8000/8000 [==============================] - 0s 19us/sample - loss: 0.3302 - acc: 0.8629\n",
      "Epoch 19/100\n",
      "8000/8000 [==============================] - 0s 19us/sample - loss: 0.3297 - acc: 0.8646\n",
      "Epoch 20/100\n",
      "8000/8000 [==============================] - 0s 19us/sample - loss: 0.3297 - acc: 0.8626\n",
      "Epoch 21/100\n",
      "8000/8000 [==============================] - 0s 19us/sample - loss: 0.3301 - acc: 0.8636\n",
      "Epoch 22/100\n",
      "8000/8000 [==============================] - 0s 19us/sample - loss: 0.3291 - acc: 0.8637\n",
      "Epoch 23/100\n",
      "8000/8000 [==============================] - 0s 19us/sample - loss: 0.3299 - acc: 0.8635\n",
      "Epoch 24/100\n",
      "8000/8000 [==============================] - 0s 19us/sample - loss: 0.3296 - acc: 0.8630\n",
      "Epoch 25/100\n",
      "8000/8000 [==============================] - 0s 19us/sample - loss: 0.3297 - acc: 0.8637\n",
      "Epoch 26/100\n",
      "8000/8000 [==============================] - 0s 19us/sample - loss: 0.3297 - acc: 0.8627\n",
      "Epoch 27/100\n",
      "8000/8000 [==============================] - 0s 19us/sample - loss: 0.3298 - acc: 0.8639\n",
      "Epoch 28/100\n",
      "8000/8000 [==============================] - 0s 19us/sample - loss: 0.3301 - acc: 0.8636\n",
      "Epoch 29/100\n",
      "8000/8000 [==============================] - 0s 19us/sample - loss: 0.3295 - acc: 0.8622\n",
      "Epoch 30/100\n",
      "8000/8000 [==============================] - 0s 19us/sample - loss: 0.3296 - acc: 0.8625\n",
      "Epoch 31/100\n",
      "8000/8000 [==============================] - 0s 19us/sample - loss: 0.3294 - acc: 0.8637\n",
      "Epoch 32/100\n",
      "8000/8000 [==============================] - 0s 19us/sample - loss: 0.3297 - acc: 0.8634\n",
      "Epoch 33/100\n",
      "8000/8000 [==============================] - 0s 19us/sample - loss: 0.3296 - acc: 0.8634\n",
      "Epoch 34/100\n",
      "8000/8000 [==============================] - 0s 19us/sample - loss: 0.3293 - acc: 0.8633\n",
      "Epoch 35/100\n",
      "8000/8000 [==============================] - 0s 19us/sample - loss: 0.3291 - acc: 0.8645\n",
      "Epoch 36/100\n",
      "8000/8000 [==============================] - 0s 19us/sample - loss: 0.3292 - acc: 0.8636\n",
      "Epoch 37/100\n",
      "8000/8000 [==============================] - 0s 19us/sample - loss: 0.3294 - acc: 0.8637\n",
      "Epoch 38/100\n",
      "8000/8000 [==============================] - 0s 19us/sample - loss: 0.3298 - acc: 0.8639\n",
      "Epoch 39/100\n",
      "8000/8000 [==============================] - 0s 19us/sample - loss: 0.3292 - acc: 0.8649\n",
      "Epoch 40/100\n",
      "8000/8000 [==============================] - 0s 19us/sample - loss: 0.3293 - acc: 0.8624\n",
      "Epoch 41/100\n",
      "8000/8000 [==============================] - 0s 19us/sample - loss: 0.3289 - acc: 0.8631\n",
      "Epoch 42/100\n",
      "8000/8000 [==============================] - 0s 19us/sample - loss: 0.3291 - acc: 0.8637\n",
      "Epoch 43/100\n",
      "8000/8000 [==============================] - 0s 19us/sample - loss: 0.3292 - acc: 0.8641\n",
      "Epoch 44/100\n",
      "8000/8000 [==============================] - 0s 19us/sample - loss: 0.3288 - acc: 0.8633\n",
      "Epoch 45/100\n",
      "8000/8000 [==============================] - 0s 20us/sample - loss: 0.3289 - acc: 0.8643\n",
      "Epoch 46/100\n",
      "8000/8000 [==============================] - 0s 19us/sample - loss: 0.3293 - acc: 0.8627\n",
      "Epoch 47/100\n",
      "8000/8000 [==============================] - 0s 34us/sample - loss: 0.3292 - acc: 0.8643\n",
      "Epoch 48/100\n",
      "8000/8000 [==============================] - 0s 42us/sample - loss: 0.3291 - acc: 0.86340s - loss: 0.3195 - acc: \n",
      "Epoch 49/100\n",
      "8000/8000 [==============================] - 0s 41us/sample - loss: 0.3288 - acc: 0.8645\n",
      "Epoch 50/100\n",
      "8000/8000 [==============================] - 0s 34us/sample - loss: 0.3289 - acc: 0.8635\n",
      "Epoch 51/100\n",
      "8000/8000 [==============================] - 0s 40us/sample - loss: 0.3286 - acc: 0.8639\n",
      "Epoch 52/100\n",
      "8000/8000 [==============================] - 0s 32us/sample - loss: 0.3287 - acc: 0.8645\n",
      "Epoch 53/100\n",
      "8000/8000 [==============================] - 0s 33us/sample - loss: 0.3289 - acc: 0.8645\n",
      "Epoch 54/100\n",
      "8000/8000 [==============================] - 0s 19us/sample - loss: 0.3288 - acc: 0.8649\n",
      "Epoch 55/100\n",
      "8000/8000 [==============================] - 0s 19us/sample - loss: 0.3290 - acc: 0.8636\n",
      "Epoch 56/100\n",
      "8000/8000 [==============================] - 0s 19us/sample - loss: 0.3289 - acc: 0.8639\n",
      "Epoch 57/100\n",
      "8000/8000 [==============================] - 0s 19us/sample - loss: 0.3290 - acc: 0.8626\n",
      "Epoch 58/100\n",
      "8000/8000 [==============================] - 0s 19us/sample - loss: 0.3291 - acc: 0.8644\n",
      "Epoch 59/100\n",
      "8000/8000 [==============================] - 0s 19us/sample - loss: 0.3290 - acc: 0.8641\n",
      "Epoch 60/100\n",
      "8000/8000 [==============================] - 0s 19us/sample - loss: 0.3290 - acc: 0.8635\n",
      "Epoch 61/100\n",
      "8000/8000 [==============================] - 0s 19us/sample - loss: 0.3290 - acc: 0.8641\n",
      "Epoch 62/100\n",
      "8000/8000 [==============================] - 0s 19us/sample - loss: 0.3286 - acc: 0.8625\n",
      "Epoch 63/100\n",
      "8000/8000 [==============================] - 0s 19us/sample - loss: 0.3289 - acc: 0.8643\n",
      "Epoch 64/100\n",
      "8000/8000 [==============================] - 0s 19us/sample - loss: 0.3287 - acc: 0.8635\n",
      "Epoch 65/100\n",
      "8000/8000 [==============================] - 0s 29us/sample - loss: 0.3288 - acc: 0.8655\n",
      "Epoch 66/100\n",
      "8000/8000 [==============================] - 0s 25us/sample - loss: 0.3286 - acc: 0.8646\n",
      "Epoch 67/100\n",
      "8000/8000 [==============================] - 0s 19us/sample - loss: 0.3286 - acc: 0.8645\n",
      "Epoch 68/100\n",
      "8000/8000 [==============================] - 0s 42us/sample - loss: 0.3291 - acc: 0.8627\n",
      "Epoch 69/100\n",
      "8000/8000 [==============================] - 0s 41us/sample - loss: 0.3289 - acc: 0.8639\n",
      "Epoch 70/100\n",
      "8000/8000 [==============================] - 0s 38us/sample - loss: 0.3285 - acc: 0.8648\n",
      "Epoch 71/100\n",
      "8000/8000 [==============================] - 0s 34us/sample - loss: 0.3284 - acc: 0.8633\n",
      "Epoch 72/100\n",
      "8000/8000 [==============================] - 0s 30us/sample - loss: 0.3288 - acc: 0.8635\n",
      "Epoch 73/100\n",
      "8000/8000 [==============================] - 0s 19us/sample - loss: 0.3289 - acc: 0.8646\n",
      "Epoch 74/100\n",
      "8000/8000 [==============================] - 0s 20us/sample - loss: 0.3284 - acc: 0.8631\n",
      "Epoch 75/100\n",
      "8000/8000 [==============================] - 0s 19us/sample - loss: 0.3287 - acc: 0.8627\n",
      "Epoch 76/100\n",
      "8000/8000 [==============================] - 0s 19us/sample - loss: 0.3285 - acc: 0.8640\n",
      "Epoch 77/100\n",
      "8000/8000 [==============================] - 0s 19us/sample - loss: 0.3287 - acc: 0.8650\n",
      "Epoch 78/100\n",
      "8000/8000 [==============================] - 0s 19us/sample - loss: 0.3285 - acc: 0.8639\n",
      "Epoch 79/100\n",
      "8000/8000 [==============================] - 0s 19us/sample - loss: 0.3286 - acc: 0.8635\n",
      "Epoch 80/100\n",
      "8000/8000 [==============================] - 0s 19us/sample - loss: 0.3286 - acc: 0.8636\n"
     ]
    },
    {
     "name": "stdout",
     "output_type": "stream",
     "text": [
      "Epoch 81/100\n",
      "8000/8000 [==============================] - 0s 28us/sample - loss: 0.3286 - acc: 0.8637\n",
      "Epoch 82/100\n",
      "8000/8000 [==============================] - 0s 42us/sample - loss: 0.3285 - acc: 0.8651\n",
      "Epoch 83/100\n",
      "8000/8000 [==============================] - 0s 21us/sample - loss: 0.3285 - acc: 0.8637\n",
      "Epoch 84/100\n",
      "8000/8000 [==============================] - 0s 19us/sample - loss: 0.3284 - acc: 0.8630\n",
      "Epoch 85/100\n",
      "8000/8000 [==============================] - 0s 19us/sample - loss: 0.3286 - acc: 0.8635\n",
      "Epoch 86/100\n",
      "8000/8000 [==============================] - 0s 19us/sample - loss: 0.3284 - acc: 0.8627\n",
      "Epoch 87/100\n",
      "8000/8000 [==============================] - 0s 19us/sample - loss: 0.3286 - acc: 0.8624\n",
      "Epoch 88/100\n",
      "8000/8000 [==============================] - 0s 20us/sample - loss: 0.3283 - acc: 0.8645\n",
      "Epoch 89/100\n",
      "8000/8000 [==============================] - 0s 22us/sample - loss: 0.3285 - acc: 0.8644\n",
      "Epoch 90/100\n",
      "8000/8000 [==============================] - 0s 19us/sample - loss: 0.3286 - acc: 0.8641\n",
      "Epoch 91/100\n",
      "8000/8000 [==============================] - 0s 19us/sample - loss: 0.3280 - acc: 0.8651\n",
      "Epoch 92/100\n",
      "8000/8000 [==============================] - 0s 19us/sample - loss: 0.3285 - acc: 0.8643\n",
      "Epoch 93/100\n",
      "8000/8000 [==============================] - 0s 19us/sample - loss: 0.3282 - acc: 0.8636\n",
      "Epoch 94/100\n",
      "8000/8000 [==============================] - 0s 19us/sample - loss: 0.3283 - acc: 0.8641\n",
      "Epoch 95/100\n",
      "8000/8000 [==============================] - 0s 19us/sample - loss: 0.3284 - acc: 0.8637\n",
      "Epoch 96/100\n",
      "8000/8000 [==============================] - 0s 20us/sample - loss: 0.3285 - acc: 0.8649\n",
      "Epoch 97/100\n",
      "8000/8000 [==============================] - 0s 27us/sample - loss: 0.3286 - acc: 0.8631\n",
      "Epoch 98/100\n",
      "8000/8000 [==============================] - 0s 36us/sample - loss: 0.3282 - acc: 0.8635\n",
      "Epoch 99/100\n",
      "8000/8000 [==============================] - 0s 36us/sample - loss: 0.3283 - acc: 0.8645\n",
      "Epoch 100/100\n",
      "8000/8000 [==============================] - 0s 44us/sample - loss: 0.3284 - acc: 0.8643\n"
     ]
    },
    {
     "data": {
      "text/plain": [
       "<tensorflow.python.keras.callbacks.History at 0x1c54a978f98>"
      ]
     },
     "execution_count": 29,
     "metadata": {},
     "output_type": "execute_result"
    }
   ],
   "source": [
    "ann.fit(X_train, y_train, batch_size = 32, epochs = 100)"
   ]
  },
  {
   "cell_type": "code",
   "execution_count": 33,
   "metadata": {},
   "outputs": [
    {
     "data": {
      "text/plain": [
       "array([[1.0, 0.0, 0.0, ..., 1, 1, 101348.88],\n",
       "       [0.0, 0.0, 1.0, ..., 0, 1, 112542.58],\n",
       "       [1.0, 0.0, 0.0, ..., 1, 0, 113931.57],\n",
       "       ...,\n",
       "       [1.0, 0.0, 0.0, ..., 0, 1, 42085.58],\n",
       "       [0.0, 1.0, 0.0, ..., 1, 0, 92888.52],\n",
       "       [1.0, 0.0, 0.0, ..., 1, 0, 38190.78]], dtype=object)"
      ]
     },
     "execution_count": 33,
     "metadata": {},
     "output_type": "execute_result"
    }
   ],
   "source": [
    "X"
   ]
  },
  {
   "cell_type": "code",
   "execution_count": 37,
   "metadata": {},
   "outputs": [
    {
     "data": {
      "text/html": [
       "<div>\n",
       "<style scoped>\n",
       "    .dataframe tbody tr th:only-of-type {\n",
       "        vertical-align: middle;\n",
       "    }\n",
       "\n",
       "    .dataframe tbody tr th {\n",
       "        vertical-align: top;\n",
       "    }\n",
       "\n",
       "    .dataframe thead th {\n",
       "        text-align: right;\n",
       "    }\n",
       "</style>\n",
       "<table border=\"1\" class=\"dataframe\">\n",
       "  <thead>\n",
       "    <tr style=\"text-align: right;\">\n",
       "      <th></th>\n",
       "      <th>RowNumber</th>\n",
       "      <th>CustomerId</th>\n",
       "      <th>Surname</th>\n",
       "      <th>CreditScore</th>\n",
       "      <th>Geography</th>\n",
       "      <th>Gender</th>\n",
       "      <th>Age</th>\n",
       "      <th>Tenure</th>\n",
       "      <th>Balance</th>\n",
       "      <th>NumOfProducts</th>\n",
       "      <th>HasCrCard</th>\n",
       "      <th>IsActiveMember</th>\n",
       "      <th>EstimatedSalary</th>\n",
       "      <th>Exited</th>\n",
       "    </tr>\n",
       "  </thead>\n",
       "  <tbody>\n",
       "    <tr>\n",
       "      <th>0</th>\n",
       "      <td>1</td>\n",
       "      <td>15634602</td>\n",
       "      <td>Hargrave</td>\n",
       "      <td>619</td>\n",
       "      <td>France</td>\n",
       "      <td>Female</td>\n",
       "      <td>42</td>\n",
       "      <td>2</td>\n",
       "      <td>0.00</td>\n",
       "      <td>1</td>\n",
       "      <td>1</td>\n",
       "      <td>1</td>\n",
       "      <td>101348.88</td>\n",
       "      <td>1</td>\n",
       "    </tr>\n",
       "    <tr>\n",
       "      <th>1</th>\n",
       "      <td>2</td>\n",
       "      <td>15647311</td>\n",
       "      <td>Hill</td>\n",
       "      <td>608</td>\n",
       "      <td>Spain</td>\n",
       "      <td>Female</td>\n",
       "      <td>41</td>\n",
       "      <td>1</td>\n",
       "      <td>83807.86</td>\n",
       "      <td>1</td>\n",
       "      <td>0</td>\n",
       "      <td>1</td>\n",
       "      <td>112542.58</td>\n",
       "      <td>0</td>\n",
       "    </tr>\n",
       "  </tbody>\n",
       "</table>\n",
       "</div>"
      ],
      "text/plain": [
       "   RowNumber  CustomerId   Surname  CreditScore Geography  Gender  Age  \\\n",
       "0          1    15634602  Hargrave          619    France  Female   42   \n",
       "1          2    15647311      Hill          608     Spain  Female   41   \n",
       "\n",
       "   Tenure   Balance  NumOfProducts  HasCrCard  IsActiveMember  \\\n",
       "0       2      0.00              1          1               1   \n",
       "1       1  83807.86              1          0               1   \n",
       "\n",
       "   EstimatedSalary  Exited  \n",
       "0        101348.88       1  \n",
       "1        112542.58       0  "
      ]
     },
     "execution_count": 37,
     "metadata": {},
     "output_type": "execute_result"
    }
   ],
   "source": [
    "dataset.head(2)"
   ]
  },
  {
   "cell_type": "code",
   "execution_count": 30,
   "metadata": {},
   "outputs": [
    {
     "name": "stdout",
     "output_type": "stream",
     "text": [
      "[[False]]\n"
     ]
    }
   ],
   "source": [
    "print(ann.predict(sc.transform([[1, 0, 0, 600, 1, 40, 3, 60000, 2, 1, 1, 50000]])) > 0.5)"
   ]
  },
  {
   "cell_type": "code",
   "execution_count": 47,
   "metadata": {},
   "outputs": [
    {
     "data": {
      "text/plain": [
       "array([[0]])"
      ]
     },
     "execution_count": 47,
     "metadata": {},
     "output_type": "execute_result"
    }
   ],
   "source": [
    "ann.predict_classes(sc.transform([[1, 0, 0, 600, 1, 40, 3, 60000, 2, 1, 1, 50000]]))"
   ]
  },
  {
   "cell_type": "markdown",
   "metadata": {},
   "source": [
    "## Making the Confusion Matrix"
   ]
  },
  {
   "cell_type": "code",
   "execution_count": 49,
   "metadata": {},
   "outputs": [
    {
     "name": "stdout",
     "output_type": "stream",
     "text": [
      "[[0 0]\n",
      " [0 1]\n",
      " [0 0]\n",
      " ...\n",
      " [0 0]\n",
      " [0 0]\n",
      " [0 0]]\n"
     ]
    }
   ],
   "source": [
    "y_pred = ann.predict(X_test)\n",
    "y_pred = (y_pred > 0.5)\n",
    "print(np.concatenate((y_pred.reshape(len(y_pred),1), y_test.reshape(len(y_test),1)),1))"
   ]
  },
  {
   "cell_type": "code",
   "execution_count": 53,
   "metadata": {},
   "outputs": [
    {
     "name": "stdout",
     "output_type": "stream",
     "text": [
      "[[1512   83]\n",
      " [ 196  209]]\n"
     ]
    }
   ],
   "source": [
    "from sklearn.metrics import confusion_matrix, accuracy_score\n",
    "cm = confusion_matrix(y_test, y_pred)\n",
    "print(cm)\n",
    "pred = accuracy_score(y_test, y_pred)"
   ]
  },
  {
   "cell_type": "code",
   "execution_count": 57,
   "metadata": {},
   "outputs": [],
   "source": [
    "import seaborn as sns\n",
    "import pandas as pd\n",
    "import matplotlib.pyplot as plt"
   ]
  },
  {
   "cell_type": "code",
   "execution_count": 60,
   "metadata": {},
   "outputs": [
    {
     "name": "stdout",
     "output_type": "stream",
     "text": [
      "[[1512   83]\n",
      " [ 196  209]]\n"
     ]
    }
   ],
   "source": [
    "cf_matrix = confusion_matrix(y_test, y_pred)\n",
    "print(cf_matrix)"
   ]
  },
  {
   "cell_type": "code",
   "execution_count": 61,
   "metadata": {},
   "outputs": [
    {
     "data": {
      "text/plain": [
       "<matplotlib.axes._subplots.AxesSubplot at 0x1c5550c58d0>"
      ]
     },
     "execution_count": 61,
     "metadata": {},
     "output_type": "execute_result"
    },
    {
     "data": {
      "image/png": "[encoded data removed]",
      "text/plain": [
       "<Figure size 432x288 with 2 Axes>"
      ]
     },
     "metadata": {},
     "output_type": "display_data"
    }
   ],
   "source": [
    "sns.heatmap(cf_matrix, annot=True)"
   ]
  },
  {
   "cell_type": "code",
   "execution_count": null,
   "metadata": {},
   "outputs": [],
   "source": []
  }
 ],
 "metadata": {
  "kernelspec": {
   "display_name": "Python 3",
   "language": "python",
   "name": "python3"
  },
  "language_info": {
   "codemirror_mode": {
    "name": "ipython",
    "version": 3
   },
   "file_extension": ".py",
   "mimetype": "text/x-python",
   "name": "python",
   "nbconvert_exporter": "python",
   "pygments_lexer": "ipython3",
   "version": "3.7.1"
  }
 },
 "nbformat": 4,
 "nbformat_minor": 2
}
