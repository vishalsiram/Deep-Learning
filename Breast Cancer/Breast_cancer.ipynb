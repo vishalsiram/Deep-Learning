{
 "cells": [
  {
   "cell_type": "code",
   "execution_count": 1,
   "metadata": {},
   "outputs": [],
   "source": [
    "import pandas as pd\n",
    "import numpy as np\n",
    "\n",
    "data=pd.read_csv(\"data.csv\")"
   ]
  },
  {
   "cell_type": "code",
   "execution_count": 2,
   "metadata": {},
   "outputs": [
    {
     "data": {
      "text/html": [
       "<div>\n",
       "<style scoped>\n",
       "    .dataframe tbody tr th:only-of-type {\n",
       "        vertical-align: middle;\n",
       "    }\n",
       "\n",
       "    .dataframe tbody tr th {\n",
       "        vertical-align: top;\n",
       "    }\n",
       "\n",
       "    .dataframe thead th {\n",
       "        text-align: right;\n",
       "    }\n",
       "</style>\n",
       "<table border=\"1\" class=\"dataframe\">\n",
       "  <thead>\n",
       "    <tr style=\"text-align: right;\">\n",
       "      <th></th>\n",
       "      <th>id</th>\n",
       "      <th>diagnosis</th>\n",
       "      <th>radius_mean</th>\n",
       "      <th>texture_mean</th>\n",
       "      <th>perimeter_mean</th>\n",
       "      <th>area_mean</th>\n",
       "      <th>smoothness_mean</th>\n",
       "      <th>compactness_mean</th>\n",
       "      <th>concavity_mean</th>\n",
       "      <th>concave points_mean</th>\n",
       "      <th>...</th>\n",
       "      <th>texture_worst</th>\n",
       "      <th>perimeter_worst</th>\n",
       "      <th>area_worst</th>\n",
       "      <th>smoothness_worst</th>\n",
       "      <th>compactness_worst</th>\n",
       "      <th>concavity_worst</th>\n",
       "      <th>concave points_worst</th>\n",
       "      <th>symmetry_worst</th>\n",
       "      <th>fractal_dimension_worst</th>\n",
       "      <th>Unnamed: 32</th>\n",
       "    </tr>\n",
       "  </thead>\n",
       "  <tbody>\n",
       "    <tr>\n",
       "      <th>0</th>\n",
       "      <td>842302</td>\n",
       "      <td>M</td>\n",
       "      <td>17.99</td>\n",
       "      <td>10.38</td>\n",
       "      <td>122.80</td>\n",
       "      <td>1001.0</td>\n",
       "      <td>0.11840</td>\n",
       "      <td>0.27760</td>\n",
       "      <td>0.3001</td>\n",
       "      <td>0.14710</td>\n",
       "      <td>...</td>\n",
       "      <td>17.33</td>\n",
       "      <td>184.60</td>\n",
       "      <td>2019.0</td>\n",
       "      <td>0.1622</td>\n",
       "      <td>0.6656</td>\n",
       "      <td>0.7119</td>\n",
       "      <td>0.2654</td>\n",
       "      <td>0.4601</td>\n",
       "      <td>0.11890</td>\n",
       "      <td>NaN</td>\n",
       "    </tr>\n",
       "    <tr>\n",
       "      <th>1</th>\n",
       "      <td>842517</td>\n",
       "      <td>M</td>\n",
       "      <td>20.57</td>\n",
       "      <td>17.77</td>\n",
       "      <td>132.90</td>\n",
       "      <td>1326.0</td>\n",
       "      <td>0.08474</td>\n",
       "      <td>0.07864</td>\n",
       "      <td>0.0869</td>\n",
       "      <td>0.07017</td>\n",
       "      <td>...</td>\n",
       "      <td>23.41</td>\n",
       "      <td>158.80</td>\n",
       "      <td>1956.0</td>\n",
       "      <td>0.1238</td>\n",
       "      <td>0.1866</td>\n",
       "      <td>0.2416</td>\n",
       "      <td>0.1860</td>\n",
       "      <td>0.2750</td>\n",
       "      <td>0.08902</td>\n",
       "      <td>NaN</td>\n",
       "    </tr>\n",
       "    <tr>\n",
       "      <th>2</th>\n",
       "      <td>84300903</td>\n",
       "      <td>M</td>\n",
       "      <td>19.69</td>\n",
       "      <td>21.25</td>\n",
       "      <td>130.00</td>\n",
       "      <td>1203.0</td>\n",
       "      <td>0.10960</td>\n",
       "      <td>0.15990</td>\n",
       "      <td>0.1974</td>\n",
       "      <td>0.12790</td>\n",
       "      <td>...</td>\n",
       "      <td>25.53</td>\n",
       "      <td>152.50</td>\n",
       "      <td>1709.0</td>\n",
       "      <td>0.1444</td>\n",
       "      <td>0.4245</td>\n",
       "      <td>0.4504</td>\n",
       "      <td>0.2430</td>\n",
       "      <td>0.3613</td>\n",
       "      <td>0.08758</td>\n",
       "      <td>NaN</td>\n",
       "    </tr>\n",
       "    <tr>\n",
       "      <th>3</th>\n",
       "      <td>84348301</td>\n",
       "      <td>M</td>\n",
       "      <td>11.42</td>\n",
       "      <td>20.38</td>\n",
       "      <td>77.58</td>\n",
       "      <td>386.1</td>\n",
       "      <td>0.14250</td>\n",
       "      <td>0.28390</td>\n",
       "      <td>0.2414</td>\n",
       "      <td>0.10520</td>\n",
       "      <td>...</td>\n",
       "      <td>26.50</td>\n",
       "      <td>98.87</td>\n",
       "      <td>567.7</td>\n",
       "      <td>0.2098</td>\n",
       "      <td>0.8663</td>\n",
       "      <td>0.6869</td>\n",
       "      <td>0.2575</td>\n",
       "      <td>0.6638</td>\n",
       "      <td>0.17300</td>\n",
       "      <td>NaN</td>\n",
       "    </tr>\n",
       "    <tr>\n",
       "      <th>4</th>\n",
       "      <td>84358402</td>\n",
       "      <td>M</td>\n",
       "      <td>20.29</td>\n",
       "      <td>14.34</td>\n",
       "      <td>135.10</td>\n",
       "      <td>1297.0</td>\n",
       "      <td>0.10030</td>\n",
       "      <td>0.13280</td>\n",
       "      <td>0.1980</td>\n",
       "      <td>0.10430</td>\n",
       "      <td>...</td>\n",
       "      <td>16.67</td>\n",
       "      <td>152.20</td>\n",
       "      <td>1575.0</td>\n",
       "      <td>0.1374</td>\n",
       "      <td>0.2050</td>\n",
       "      <td>0.4000</td>\n",
       "      <td>0.1625</td>\n",
       "      <td>0.2364</td>\n",
       "      <td>0.07678</td>\n",
       "      <td>NaN</td>\n",
       "    </tr>\n",
       "  </tbody>\n",
       "</table>\n",
       "<p>5 rows × 33 columns</p>\n",
       "</div>"
      ],
      "text/plain": [
       "         id diagnosis  radius_mean  texture_mean  perimeter_mean  area_mean  \\\n",
       "0    842302         M        17.99         10.38          122.80     1001.0   \n",
       "1    842517         M        20.57         17.77          132.90     1326.0   \n",
       "2  84300903         M        19.69         21.25          130.00     1203.0   \n",
       "3  84348301         M        11.42         20.38           77.58      386.1   \n",
       "4  84358402         M        20.29         14.34          135.10     1297.0   \n",
       "\n",
       "   smoothness_mean  compactness_mean  concavity_mean  concave points_mean  \\\n",
       "0          0.11840           0.27760          0.3001              0.14710   \n",
       "1          0.08474           0.07864          0.0869              0.07017   \n",
       "2          0.10960           0.15990          0.1974              0.12790   \n",
       "3          0.14250           0.28390          0.2414              0.10520   \n",
       "4          0.10030           0.13280          0.1980              0.10430   \n",
       "\n",
       "   ...  texture_worst  perimeter_worst  area_worst  smoothness_worst  \\\n",
       "0  ...          17.33           184.60      2019.0            0.1622   \n",
       "1  ...          23.41           158.80      1956.0            0.1238   \n",
       "2  ...          25.53           152.50      1709.0            0.1444   \n",
       "3  ...          26.50            98.87       567.7            0.2098   \n",
       "4  ...          16.67           152.20      1575.0            0.1374   \n",
       "\n",
       "   compactness_worst  concavity_worst  concave points_worst  symmetry_worst  \\\n",
       "0             0.6656           0.7119                0.2654          0.4601   \n",
       "1             0.1866           0.2416                0.1860          0.2750   \n",
       "2             0.4245           0.4504                0.2430          0.3613   \n",
       "3             0.8663           0.6869                0.2575          0.6638   \n",
       "4             0.2050           0.4000                0.1625          0.2364   \n",
       "\n",
       "   fractal_dimension_worst  Unnamed: 32  \n",
       "0                  0.11890          NaN  \n",
       "1                  0.08902          NaN  \n",
       "2                  0.08758          NaN  \n",
       "3                  0.17300          NaN  \n",
       "4                  0.07678          NaN  \n",
       "\n",
       "[5 rows x 33 columns]"
      ]
     },
     "execution_count": 2,
     "metadata": {},
     "output_type": "execute_result"
    }
   ],
   "source": [
    "data.head()"
   ]
  },
  {
   "cell_type": "markdown",
   "metadata": {},
   "source": [
    "accpets diagnosis all are independet variable and diagonosis is dependet"
   ]
  },
  {
   "cell_type": "code",
   "execution_count": 5,
   "metadata": {},
   "outputs": [
    {
     "name": "stdout",
     "output_type": "stream",
     "text": [
      "Benign 357\n",
      "Malignanat 212\n"
     ]
    },
    {
     "data": {
      "image/png": "[encoded data removed]",
      "text/plain": [
       "<Figure size 432x288 with 1 Axes>"
      ]
     },
     "metadata": {
      "needs_background": "light"
     },
     "output_type": "display_data"
    }
   ],
   "source": [
    "import seaborn as sns\n",
    "import matplotlib as plt\n",
    "ax = sns.countplot(data['diagnosis'], label=\"count\")\n",
    "B, M = data['diagnosis'].value_counts()\n",
    "print('Benign', B)\n",
    "print('Malignanat', M)"
   ]
  },
  {
   "cell_type": "markdown",
   "metadata": {},
   "source": [
    "Deleting atribute 32"
   ]
  },
  {
   "cell_type": "code",
   "execution_count": 7,
   "metadata": {},
   "outputs": [],
   "source": [
    "del data['Unnamed: 32']"
   ]
  },
  {
   "cell_type": "markdown",
   "metadata": {},
   "source": [
    "## Data Preprocessing"
   ]
  },
  {
   "cell_type": "code",
   "execution_count": 8,
   "metadata": {},
   "outputs": [],
   "source": [
    "X = data.iloc[:, 2:].values #independent variables\n",
    "y = data.iloc[:, 1].values #dependent variables"
   ]
  },
  {
   "cell_type": "markdown",
   "metadata": {},
   "source": [
    "### Encoding categorical data"
   ]
  },
  {
   "cell_type": "code",
   "execution_count": 9,
   "metadata": {},
   "outputs": [],
   "source": [
    "from sklearn.preprocessing import LabelEncoder\n",
    "labelencoder_X_1 = LabelEncoder()\n",
    "y = labelencoder_X_1.fit_transform(y)"
   ]
  },
  {
   "cell_type": "markdown",
   "metadata": {},
   "source": [
    "### spliting data set"
   ]
  },
  {
   "cell_type": "code",
   "execution_count": 10,
   "metadata": {},
   "outputs": [],
   "source": [
    "from sklearn.model_selection import train_test_split\n",
    "X_train, X_test, y_train, y_test = train_test_split(X, y, test_size = 0.1, random_state = 0) "
   ]
  },
  {
   "cell_type": "markdown",
   "metadata": {},
   "source": [
    "### feature scaling\n",
    "\n",
    "get data in standardize form"
   ]
  },
  {
   "cell_type": "code",
   "execution_count": 11,
   "metadata": {},
   "outputs": [],
   "source": [
    "from sklearn.preprocessing import StandardScaler\n",
    "sc = StandardScaler()\n",
    "X_train = sc.fit_transform(X_train)\n",
    "X_test = sc.transform(X_test)"
   ]
  },
  {
   "cell_type": "code",
   "execution_count": 13,
   "metadata": {},
   "outputs": [
    {
     "data": {
      "text/plain": [
       "array([[-0.52787029,  2.49821982, -0.59939466, ..., -1.74713139,\n",
       "        -0.79044533, -0.91054389],\n",
       "       [-0.55333608,  0.29431013, -0.60759343, ..., -0.62275667,\n",
       "        -0.33646358, -0.83551633],\n",
       "       [ 2.15452653,  0.40392257,  2.26525805, ...,  1.03846122,\n",
       "        -0.11504791,  0.26488788],\n",
       "       ...,\n",
       "       [-1.3297598 , -0.21876938, -1.32088704, ..., -0.98271999,\n",
       "        -0.718764  , -0.13637062],\n",
       "       [-1.24940108, -0.24209117, -1.2835826 , ..., -1.74713139,\n",
       "        -1.58690456, -1.01280367],\n",
       "       [-0.74291476,  1.08958336, -0.71827692, ..., -0.2865488 ,\n",
       "        -1.26354211,  0.19486216]])"
      ]
     },
     "execution_count": 13,
     "metadata": {},
     "output_type": "execute_result"
    }
   ],
   "source": [
    "X_train #input vlaues from neural network is always on between 0 but not 0"
   ]
  },
  {
   "cell_type": "code",
   "execution_count": 14,
   "metadata": {},
   "outputs": [
    {
     "data": {
      "text/plain": [
       "array([[-0.20813312,  0.29431013, -0.13944326, ...,  1.35620942,\n",
       "         1.08282676,  1.50534354],\n",
       "       [-0.26189423,  1.39743106, -0.3255555 , ..., -0.83852283,\n",
       "        -0.73469319, -0.8855347 ],\n",
       "       [-0.0327021 , -0.83912914, -0.10049907, ..., -0.50397936,\n",
       "        -1.22531207, -0.92888396],\n",
       "       ...,\n",
       "       [-0.47410917,  0.14738282, -0.47600306, ..., -0.59340278,\n",
       "        -0.35079984, -0.34311323],\n",
       "       [-0.75423289, -0.7528385 , -0.77976775, ..., -0.75636222,\n",
       "        -0.08637538,  0.21209071],\n",
       "       [-0.79667588,  1.82421992, -0.83142005, ..., -1.43195543,\n",
       "        -0.08956122, -0.71936255]])"
      ]
     },
     "execution_count": 14,
     "metadata": {},
     "output_type": "execute_result"
    }
   ],
   "source": [
    "X_test"
   ]
  },
  {
   "cell_type": "code",
   "execution_count": 15,
   "metadata": {},
   "outputs": [],
   "source": [
    "import keras\n",
    "from keras.models import Sequential\n",
    "from keras.layers import Dense"
   ]
  },
  {
   "cell_type": "markdown",
   "metadata": {},
   "source": [
    "### Adding the input and first hidden layer\n",
    "\n",
    "1. Weight initialization technique is uniform distribution\n",
    "2. Activation function in hidden layer is relu\n",
    "3. activation function for output layer is sigmoid"
   ]
  },
  {
   "cell_type": "code",
   "execution_count": 26,
   "metadata": {},
   "outputs": [
    {
     "name": "stderr",
     "output_type": "stream",
     "text": [
      "C:\\Users\\vishal\\AppData\\Local\\Continuum\\anaconda3\\envs\\data_s\\lib\\site-packages\\ipykernel_launcher.py:2: UserWarning: Update your `Dense` call to the Keras 2 API: `Dense(activation=\"relu\", input_dim=30, units=16, kernel_initializer=\"uniform\")`\n",
      "  \n"
     ]
    }
   ],
   "source": [
    "classifier = Sequential()\n",
    "classifier.add(Dense(output_dim=16, init='uniform', activation='relu', input_dim=30))#input layers input dim and output layers are hidden layer"
   ]
  },
  {
   "cell_type": "markdown",
   "metadata": {},
   "source": [
    "### Adding second hidden layer"
   ]
  },
  {
   "cell_type": "code",
   "execution_count": 27,
   "metadata": {},
   "outputs": [
    {
     "name": "stderr",
     "output_type": "stream",
     "text": [
      "C:\\Users\\vishal\\AppData\\Local\\Continuum\\anaconda3\\envs\\data_s\\lib\\site-packages\\ipykernel_launcher.py:1: UserWarning: Update your `Dense` call to the Keras 2 API: `Dense(activation=\"relu\", input_dim=30, units=16, kernel_initializer=\"uniform\")`\n",
      "  \"\"\"Entry point for launching an IPython kernel.\n"
     ]
    }
   ],
   "source": [
    "classifier.add(Dense(output_dim=16, init='uniform', activation='relu', input_dim=30))#input layers input dim and output layers are hidden layer"
   ]
  },
  {
   "cell_type": "markdown",
   "metadata": {},
   "source": [
    "### Adding the output layer"
   ]
  },
  {
   "cell_type": "code",
   "execution_count": 28,
   "metadata": {},
   "outputs": [
    {
     "name": "stderr",
     "output_type": "stream",
     "text": [
      "C:\\Users\\vishal\\AppData\\Local\\Continuum\\anaconda3\\envs\\data_s\\lib\\site-packages\\ipykernel_launcher.py:1: UserWarning: Update your `Dense` call to the Keras 2 API: `Dense(activation=\"sigmoid\", units=1, kernel_initializer=\"uniform\")`\n",
      "  \"\"\"Entry point for launching an IPython kernel.\n"
     ]
    }
   ],
   "source": [
    "classifier.add(Dense(output_dim=1, init='uniform', activation='sigmoid'))#input layers input dim and output layers are hidden laye"
   ]
  },
  {
   "cell_type": "code",
   "execution_count": 29,
   "metadata": {},
   "outputs": [
    {
     "name": "stdout",
     "output_type": "stream",
     "text": [
      "_________________________________________________________________\n",
      "Layer (type)                 Output Shape              Param #   \n",
      "=================================================================\n",
      "dense_10 (Dense)             (None, 16)                496       \n",
      "_________________________________________________________________\n",
      "dense_11 (Dense)             (None, 16)                272       \n",
      "_________________________________________________________________\n",
      "dense_12 (Dense)             (None, 1)                 17        \n",
      "=================================================================\n",
      "Total params: 785\n",
      "Trainable params: 785\n",
      "Non-trainable params: 0\n",
      "_________________________________________________________________\n"
     ]
    }
   ],
   "source": [
    "classifier.summary()"
   ]
  },
  {
   "cell_type": "code",
   "execution_count": 32,
   "metadata": {},
   "outputs": [
    {
     "name": "stderr",
     "output_type": "stream",
     "text": [
      "W0625 21:38:52.547220 28428 module_wrapper.py:139] From C:\\Users\\vishal\\AppData\\Local\\Continuum\\anaconda3\\envs\\data_s\\lib\\site-packages\\keras\\backend\\tensorflow_backend.py:3376: The name tf.log is deprecated. Please use tf.math.log instead.\n",
      "\n",
      "W0625 21:38:52.551812 28428 deprecation.py:323] From C:\\Users\\vishal\\AppData\\Local\\Continuum\\anaconda3\\envs\\data_s\\lib\\site-packages\\tensorflow_core\\python\\ops\\nn_impl.py:183: where (from tensorflow.python.ops.array_ops) is deprecated and will be removed in a future version.\n",
      "Instructions for updating:\n",
      "Use tf.where in 2.0, which has the same broadcast rule as np.where\n"
     ]
    }
   ],
   "source": [
    "classifier.compile(optimizer='Adam', loss='binary_crossentropy', metrics=['accuracy'])#if ouptut is binary you can use cross binary_cross_entropy or output is multiple you can use multiple_cross_etropy"
   ]
  },
  {
   "cell_type": "code",
   "execution_count": 33,
   "metadata": {},
   "outputs": [
    {
     "name": "stderr",
     "output_type": "stream",
     "text": [
      "C:\\Users\\vishal\\AppData\\Local\\Continuum\\anaconda3\\envs\\data_s\\lib\\site-packages\\ipykernel_launcher.py:1: UserWarning: The `nb_epoch` argument in `fit` has been renamed `epochs`.\n",
      "  \"\"\"Entry point for launching an IPython kernel.\n",
      "W0625 21:40:24.851424 28428 module_wrapper.py:139] From C:\\Users\\vishal\\AppData\\Local\\Continuum\\anaconda3\\envs\\data_s\\lib\\site-packages\\keras\\backend\\tensorflow_backend.py:986: The name tf.assign_add is deprecated. Please use tf.compat.v1.assign_add instead.\n",
      "\n",
      "W0625 21:40:24.904559 28428 module_wrapper.py:139] From C:\\Users\\vishal\\AppData\\Local\\Continuum\\anaconda3\\envs\\data_s\\lib\\site-packages\\keras\\backend\\tensorflow_backend.py:973: The name tf.assign is deprecated. Please use tf.compat.v1.assign instead.\n",
      "\n",
      "W0625 21:40:24.950478 28428 module_wrapper.py:139] From C:\\Users\\vishal\\AppData\\Local\\Continuum\\anaconda3\\envs\\data_s\\lib\\site-packages\\keras\\backend\\tensorflow_backend.py:2741: The name tf.Session is deprecated. Please use tf.compat.v1.Session instead.\n",
      "\n",
      "W0625 21:40:24.952450 28428 module_wrapper.py:139] From C:\\Users\\vishal\\AppData\\Local\\Continuum\\anaconda3\\envs\\data_s\\lib\\site-packages\\keras\\backend\\tensorflow_backend.py:174: The name tf.get_default_session is deprecated. Please use tf.compat.v1.get_default_session instead.\n",
      "\n",
      "W0625 21:40:24.953102 28428 module_wrapper.py:139] From C:\\Users\\vishal\\AppData\\Local\\Continuum\\anaconda3\\envs\\data_s\\lib\\site-packages\\keras\\backend\\tensorflow_backend.py:181: The name tf.ConfigProto is deprecated. Please use tf.compat.v1.ConfigProto instead.\n",
      "\n"
     ]
    },
    {
     "name": "stdout",
     "output_type": "stream",
     "text": [
      "Epoch 1/150\n"
     ]
    },
    {
     "name": "stderr",
     "output_type": "stream",
     "text": [
      "W0625 21:40:26.129632 28428 module_wrapper.py:139] From C:\\Users\\vishal\\AppData\\Local\\Continuum\\anaconda3\\envs\\data_s\\lib\\site-packages\\keras\\backend\\tensorflow_backend.py:190: The name tf.global_variables is deprecated. Please use tf.compat.v1.global_variables instead.\n",
      "\n",
      "W0625 21:40:26.130288 28428 module_wrapper.py:139] From C:\\Users\\vishal\\AppData\\Local\\Continuum\\anaconda3\\envs\\data_s\\lib\\site-packages\\keras\\backend\\tensorflow_backend.py:199: The name tf.is_variable_initialized is deprecated. Please use tf.compat.v1.is_variable_initialized instead.\n",
      "\n",
      "W0625 21:40:26.298877 28428 module_wrapper.py:139] From C:\\Users\\vishal\\AppData\\Local\\Continuum\\anaconda3\\envs\\data_s\\lib\\site-packages\\keras\\backend\\tensorflow_backend.py:206: The name tf.variables_initializer is deprecated. Please use tf.compat.v1.variables_initializer instead.\n",
      "\n"
     ]
    },
    {
     "name": "stdout",
     "output_type": "stream",
     "text": [
      "512/512 [==============================] - 2s 3ms/step - loss: 0.6928 - acc: 0.5605\n",
      "Epoch 2/150\n",
      "512/512 [==============================] - 0s 18us/step - loss: 0.6911 - acc: 0.6289\n",
      "Epoch 3/150\n",
      "512/512 [==============================] - 0s 24us/step - loss: 0.6884 - acc: 0.6309\n",
      "Epoch 4/150\n",
      "512/512 [==============================] - 0s 19us/step - loss: 0.6839 - acc: 0.6563\n",
      "Epoch 5/150\n",
      "512/512 [==============================] - 0s 20us/step - loss: 0.6760 - acc: 0.7324\n",
      "Epoch 6/150\n",
      "512/512 [==============================] - 0s 23us/step - loss: 0.6636 - acc: 0.8457\n",
      "Epoch 7/150\n",
      "512/512 [==============================] - 0s 22us/step - loss: 0.6446 - acc: 0.9023\n",
      "Epoch 8/150\n",
      "512/512 [==============================] - 0s 21us/step - loss: 0.6186 - acc: 0.9238\n",
      "Epoch 9/150\n",
      "512/512 [==============================] - 0s 23us/step - loss: 0.5835 - acc: 0.9297\n",
      "Epoch 10/150\n",
      "512/512 [==============================] - 0s 19us/step - loss: 0.5401 - acc: 0.9355\n",
      "Epoch 11/150\n",
      "512/512 [==============================] - 0s 19us/step - loss: 0.4891 - acc: 0.9395\n",
      "Epoch 12/150\n",
      "512/512 [==============================] - 0s 22us/step - loss: 0.4349 - acc: 0.9375\n",
      "Epoch 13/150\n",
      "512/512 [==============================] - 0s 23us/step - loss: 0.3803 - acc: 0.9395\n",
      "Epoch 14/150\n",
      "512/512 [==============================] - 0s 23us/step - loss: 0.3290 - acc: 0.9375\n",
      "Epoch 15/150\n",
      "512/512 [==============================] - 0s 19us/step - loss: 0.2848 - acc: 0.9375\n",
      "Epoch 16/150\n",
      "512/512 [==============================] - 0s 22us/step - loss: 0.2482 - acc: 0.9395\n",
      "Epoch 17/150\n",
      "512/512 [==============================] - 0s 24us/step - loss: 0.2187 - acc: 0.9434\n",
      "Epoch 18/150\n",
      "512/512 [==============================] - 0s 23us/step - loss: 0.1959 - acc: 0.9492\n",
      "Epoch 19/150\n",
      "512/512 [==============================] - 0s 20us/step - loss: 0.1774 - acc: 0.9531\n",
      "Epoch 20/150\n",
      "512/512 [==============================] - 0s 24us/step - loss: 0.1620 - acc: 0.9590\n",
      "Epoch 21/150\n",
      "512/512 [==============================] - 0s 22us/step - loss: 0.1493 - acc: 0.9609\n",
      "Epoch 22/150\n",
      "512/512 [==============================] - 0s 26us/step - loss: 0.1386 - acc: 0.9629\n",
      "Epoch 23/150\n",
      "512/512 [==============================] - 0s 17us/step - loss: 0.1297 - acc: 0.9668\n",
      "Epoch 24/150\n",
      "512/512 [==============================] - 0s 19us/step - loss: 0.1227 - acc: 0.9688\n",
      "Epoch 25/150\n",
      "512/512 [==============================] - 0s 18us/step - loss: 0.1160 - acc: 0.9688\n",
      "Epoch 26/150\n",
      "512/512 [==============================] - 0s 21us/step - loss: 0.1101 - acc: 0.9688\n",
      "Epoch 27/150\n",
      "512/512 [==============================] - 0s 18us/step - loss: 0.1054 - acc: 0.9746\n",
      "Epoch 28/150\n",
      "512/512 [==============================] - 0s 24us/step - loss: 0.1012 - acc: 0.9746\n",
      "Epoch 29/150\n",
      "512/512 [==============================] - 0s 16us/step - loss: 0.0973 - acc: 0.9766\n",
      "Epoch 30/150\n",
      "512/512 [==============================] - 0s 22us/step - loss: 0.0943 - acc: 0.9766\n",
      "Epoch 31/150\n",
      "512/512 [==============================] - 0s 17us/step - loss: 0.0916 - acc: 0.9766\n",
      "Epoch 32/150\n",
      "512/512 [==============================] - 0s 22us/step - loss: 0.0888 - acc: 0.9785\n",
      "Epoch 33/150\n",
      "512/512 [==============================] - 0s 21us/step - loss: 0.0866 - acc: 0.9785\n",
      "Epoch 34/150\n",
      "512/512 [==============================] - 0s 18us/step - loss: 0.0846 - acc: 0.9824\n",
      "Epoch 35/150\n",
      "512/512 [==============================] - 0s 22us/step - loss: 0.0825 - acc: 0.9824\n",
      "Epoch 36/150\n",
      "512/512 [==============================] - 0s 21us/step - loss: 0.0811 - acc: 0.9844\n",
      "Epoch 37/150\n",
      "512/512 [==============================] - 0s 17us/step - loss: 0.0794 - acc: 0.9824\n",
      "Epoch 38/150\n",
      "512/512 [==============================] - 0s 23us/step - loss: 0.0779 - acc: 0.9824\n",
      "Epoch 39/150\n",
      "512/512 [==============================] - 0s 22us/step - loss: 0.0765 - acc: 0.9824\n",
      "Epoch 40/150\n",
      "512/512 [==============================] - 0s 22us/step - loss: 0.0752 - acc: 0.9824\n",
      "Epoch 41/150\n",
      "512/512 [==============================] - 0s 18us/step - loss: 0.0740 - acc: 0.9824\n",
      "Epoch 42/150\n",
      "512/512 [==============================] - 0s 23us/step - loss: 0.0729 - acc: 0.9824\n",
      "Epoch 43/150\n",
      "512/512 [==============================] - 0s 19us/step - loss: 0.0717 - acc: 0.9824\n",
      "Epoch 44/150\n",
      "512/512 [==============================] - 0s 19us/step - loss: 0.0707 - acc: 0.9844\n",
      "Epoch 45/150\n",
      "512/512 [==============================] - 0s 24us/step - loss: 0.0696 - acc: 0.9844\n",
      "Epoch 46/150\n",
      "512/512 [==============================] - 0s 20us/step - loss: 0.0687 - acc: 0.9844\n",
      "Epoch 47/150\n",
      "512/512 [==============================] - 0s 19us/step - loss: 0.0678 - acc: 0.9844\n",
      "Epoch 48/150\n",
      "512/512 [==============================] - 0s 19us/step - loss: 0.0670 - acc: 0.9844\n",
      "Epoch 49/150\n",
      "512/512 [==============================] - 0s 26us/step - loss: 0.0662 - acc: 0.9844\n",
      "Epoch 50/150\n",
      "512/512 [==============================] - 0s 22us/step - loss: 0.0657 - acc: 0.9844\n",
      "Epoch 51/150\n",
      "512/512 [==============================] - 0s 19us/step - loss: 0.0651 - acc: 0.9844\n",
      "Epoch 52/150\n",
      "512/512 [==============================] - 0s 22us/step - loss: 0.0644 - acc: 0.9844\n",
      "Epoch 53/150\n",
      "512/512 [==============================] - 0s 20us/step - loss: 0.0638 - acc: 0.9844\n",
      "Epoch 54/150\n",
      "512/512 [==============================] - 0s 18us/step - loss: 0.0633 - acc: 0.9844\n",
      "Epoch 55/150\n",
      "512/512 [==============================] - 0s 23us/step - loss: 0.0627 - acc: 0.9844\n",
      "Epoch 56/150\n",
      "512/512 [==============================] - 0s 23us/step - loss: 0.0621 - acc: 0.9844\n",
      "Epoch 57/150\n",
      "512/512 [==============================] - 0s 24us/step - loss: 0.0617 - acc: 0.9824\n",
      "Epoch 58/150\n",
      "512/512 [==============================] - 0s 19us/step - loss: 0.0612 - acc: 0.9844\n",
      "Epoch 59/150\n",
      "512/512 [==============================] - 0s 22us/step - loss: 0.0607 - acc: 0.9824\n",
      "Epoch 60/150\n",
      "512/512 [==============================] - 0s 20us/step - loss: 0.0601 - acc: 0.9824\n",
      "Epoch 61/150\n",
      "512/512 [==============================] - 0s 18us/step - loss: 0.0596 - acc: 0.9863\n",
      "Epoch 62/150\n",
      "512/512 [==============================] - 0s 19us/step - loss: 0.0592 - acc: 0.9863\n",
      "Epoch 63/150\n",
      "512/512 [==============================] - 0s 20us/step - loss: 0.0584 - acc: 0.9863\n",
      "Epoch 64/150\n",
      "512/512 [==============================] - ETA: 0s - loss: 0.0644 - acc: 0.980 - 0s 19us/step - loss: 0.0580 - acc: 0.9863\n",
      "Epoch 65/150\n",
      "512/512 [==============================] - 0s 18us/step - loss: 0.0576 - acc: 0.9863\n",
      "Epoch 66/150\n",
      "512/512 [==============================] - 0s 24us/step - loss: 0.0571 - acc: 0.9863\n",
      "Epoch 67/150\n",
      "512/512 [==============================] - 0s 22us/step - loss: 0.0566 - acc: 0.9863\n",
      "Epoch 68/150\n",
      "512/512 [==============================] - 0s 19us/step - loss: 0.0561 - acc: 0.9863\n",
      "Epoch 69/150\n",
      "512/512 [==============================] - 0s 23us/step - loss: 0.0556 - acc: 0.9863\n",
      "Epoch 70/150\n",
      "512/512 [==============================] - 0s 22us/step - loss: 0.0552 - acc: 0.9863\n",
      "Epoch 71/150\n",
      "512/512 [==============================] - 0s 19us/step - loss: 0.0548 - acc: 0.9863\n",
      "Epoch 72/150\n",
      "512/512 [==============================] - 0s 20us/step - loss: 0.0544 - acc: 0.9863\n",
      "Epoch 73/150\n",
      "512/512 [==============================] - 0s 24us/step - loss: 0.0540 - acc: 0.9863\n",
      "Epoch 74/150\n",
      "512/512 [==============================] - 0s 23us/step - loss: 0.0535 - acc: 0.9863\n",
      "Epoch 75/150\n",
      "512/512 [==============================] - 0s 18us/step - loss: 0.0531 - acc: 0.9863\n",
      "Epoch 76/150\n",
      "512/512 [==============================] - 0s 23us/step - loss: 0.0527 - acc: 0.9863\n",
      "Epoch 77/150\n",
      "512/512 [==============================] - 0s 21us/step - loss: 0.0524 - acc: 0.9863\n",
      "Epoch 78/150\n",
      "512/512 [==============================] - 0s 18us/step - loss: 0.0521 - acc: 0.9863\n",
      "Epoch 79/150\n",
      "512/512 [==============================] - 0s 23us/step - loss: 0.0517 - acc: 0.9863\n",
      "Epoch 80/150\n",
      "512/512 [==============================] - 0s 22us/step - loss: 0.0513 - acc: 0.9863\n",
      "Epoch 81/150\n",
      "512/512 [==============================] - 0s 22us/step - loss: 0.0510 - acc: 0.9863\n",
      "Epoch 82/150\n",
      "512/512 [==============================] - 0s 18us/step - loss: 0.0505 - acc: 0.9863\n",
      "Epoch 83/150\n",
      "512/512 [==============================] - 0s 23us/step - loss: 0.0501 - acc: 0.9863\n",
      "Epoch 84/150\n"
     ]
    },
    {
     "name": "stdout",
     "output_type": "stream",
     "text": [
      "512/512 [==============================] - 0s 22us/step - loss: 0.0500 - acc: 0.9863\n",
      "Epoch 85/150\n",
      "512/512 [==============================] - 0s 18us/step - loss: 0.0493 - acc: 0.9863\n",
      "Epoch 86/150\n",
      "512/512 [==============================] - 0s 23us/step - loss: 0.0491 - acc: 0.9863\n",
      "Epoch 87/150\n",
      "512/512 [==============================] - 0s 23us/step - loss: 0.0487 - acc: 0.9863\n",
      "Epoch 88/150\n",
      "512/512 [==============================] - 0s 17us/step - loss: 0.0483 - acc: 0.9863\n",
      "Epoch 89/150\n",
      "512/512 [==============================] - 0s 24us/step - loss: 0.0479 - acc: 0.9863\n",
      "Epoch 90/150\n",
      "512/512 [==============================] - 0s 22us/step - loss: 0.0478 - acc: 0.9863\n",
      "Epoch 91/150\n",
      "512/512 [==============================] - 0s 26us/step - loss: 0.0474 - acc: 0.9883\n",
      "Epoch 92/150\n",
      "512/512 [==============================] - 0s 28us/step - loss: 0.0472 - acc: 0.9883\n",
      "Epoch 93/150\n",
      "512/512 [==============================] - 0s 20us/step - loss: 0.0469 - acc: 0.9883\n",
      "Epoch 94/150\n",
      "512/512 [==============================] - 0s 24us/step - loss: 0.0464 - acc: 0.9883\n",
      "Epoch 95/150\n",
      "512/512 [==============================] - 0s 23us/step - loss: 0.0461 - acc: 0.9883\n",
      "Epoch 96/150\n",
      "512/512 [==============================] - 0s 17us/step - loss: 0.0458 - acc: 0.9883\n",
      "Epoch 97/150\n",
      "512/512 [==============================] - 0s 18us/step - loss: 0.0455 - acc: 0.9883\n",
      "Epoch 98/150\n",
      "512/512 [==============================] - 0s 22us/step - loss: 0.0452 - acc: 0.9883\n",
      "Epoch 99/150\n",
      "512/512 [==============================] - 0s 15us/step - loss: 0.0449 - acc: 0.9883\n",
      "Epoch 100/150\n",
      "512/512 [==============================] - 0s 22us/step - loss: 0.0446 - acc: 0.9902\n",
      "Epoch 101/150\n",
      "512/512 [==============================] - 0s 20us/step - loss: 0.0443 - acc: 0.9902\n",
      "Epoch 102/150\n",
      "512/512 [==============================] - 0s 17us/step - loss: 0.0440 - acc: 0.9902\n",
      "Epoch 103/150\n",
      "512/512 [==============================] - 0s 23us/step - loss: 0.0438 - acc: 0.9902\n",
      "Epoch 104/150\n",
      "512/512 [==============================] - 0s 19us/step - loss: 0.0433 - acc: 0.9902\n",
      "Epoch 105/150\n",
      "512/512 [==============================] - 0s 17us/step - loss: 0.0429 - acc: 0.9902\n",
      "Epoch 106/150\n",
      "512/512 [==============================] - 0s 21us/step - loss: 0.0427 - acc: 0.9902\n",
      "Epoch 107/150\n",
      "512/512 [==============================] - 0s 22us/step - loss: 0.0424 - acc: 0.9902\n",
      "Epoch 108/150\n",
      "512/512 [==============================] - 0s 17us/step - loss: 0.0421 - acc: 0.9902\n",
      "Epoch 109/150\n",
      "512/512 [==============================] - 0s 24us/step - loss: 0.0418 - acc: 0.9902\n",
      "Epoch 110/150\n",
      "512/512 [==============================] - 0s 22us/step - loss: 0.0414 - acc: 0.9902\n",
      "Epoch 111/150\n",
      "512/512 [==============================] - 0s 18us/step - loss: 0.0411 - acc: 0.9902\n",
      "Epoch 112/150\n",
      "512/512 [==============================] - 0s 19us/step - loss: 0.0407 - acc: 0.9902\n",
      "Epoch 113/150\n",
      "512/512 [==============================] - 0s 20us/step - loss: 0.0405 - acc: 0.9902\n",
      "Epoch 114/150\n",
      "512/512 [==============================] - 0s 20us/step - loss: 0.0400 - acc: 0.9922\n",
      "Epoch 115/150\n",
      "512/512 [==============================] - 0s 37us/step - loss: 0.0397 - acc: 0.9922\n",
      "Epoch 116/150\n",
      "512/512 [==============================] - 0s 53us/step - loss: 0.0394 - acc: 0.9922\n",
      "Epoch 117/150\n",
      "512/512 [==============================] - 0s 26us/step - loss: 0.0390 - acc: 0.9922\n",
      "Epoch 118/150\n",
      "512/512 [==============================] - 0s 24us/step - loss: 0.0386 - acc: 0.9922\n",
      "Epoch 119/150\n",
      "512/512 [==============================] - 0s 24us/step - loss: 0.0383 - acc: 0.9922\n",
      "Epoch 120/150\n",
      "512/512 [==============================] - 0s 23us/step - loss: 0.0380 - acc: 0.9922\n",
      "Epoch 121/150\n",
      "512/512 [==============================] - 0s 27us/step - loss: 0.0376 - acc: 0.9922\n",
      "Epoch 122/150\n",
      "512/512 [==============================] - 0s 27us/step - loss: 0.0373 - acc: 0.9922\n",
      "Epoch 123/150\n",
      "512/512 [==============================] - 0s 21us/step - loss: 0.0373 - acc: 0.9922\n",
      "Epoch 124/150\n",
      "512/512 [==============================] - 0s 22us/step - loss: 0.0369 - acc: 0.9922\n",
      "Epoch 125/150\n",
      "512/512 [==============================] - 0s 24us/step - loss: 0.0367 - acc: 0.9922\n",
      "Epoch 126/150\n",
      "512/512 [==============================] - 0s 20us/step - loss: 0.0363 - acc: 0.9922\n",
      "Epoch 127/150\n",
      "512/512 [==============================] - 0s 26us/step - loss: 0.0360 - acc: 0.9922\n",
      "Epoch 128/150\n",
      "512/512 [==============================] - 0s 20us/step - loss: 0.0354 - acc: 0.9922\n",
      "Epoch 129/150\n",
      "512/512 [==============================] - 0s 23us/step - loss: 0.0351 - acc: 0.9922\n",
      "Epoch 130/150\n",
      "512/512 [==============================] - 0s 29us/step - loss: 0.0350 - acc: 0.9922\n",
      "Epoch 131/150\n",
      "512/512 [==============================] - 0s 23us/step - loss: 0.0346 - acc: 0.9922\n",
      "Epoch 132/150\n",
      "512/512 [==============================] - 0s 21us/step - loss: 0.0343 - acc: 0.9922\n",
      "Epoch 133/150\n",
      "512/512 [==============================] - 0s 23us/step - loss: 0.0339 - acc: 0.9922\n",
      "Epoch 134/150\n",
      "512/512 [==============================] - 0s 26us/step - loss: 0.0337 - acc: 0.9922\n",
      "Epoch 135/150\n",
      "512/512 [==============================] - 0s 64us/step - loss: 0.0336 - acc: 0.9922\n",
      "Epoch 136/150\n",
      "512/512 [==============================] - 0s 22us/step - loss: 0.0332 - acc: 0.9922\n",
      "Epoch 137/150\n",
      "512/512 [==============================] - 0s 18us/step - loss: 0.0329 - acc: 0.9922\n",
      "Epoch 138/150\n",
      "512/512 [==============================] - 0s 24us/step - loss: 0.0329 - acc: 0.9922\n",
      "Epoch 139/150\n",
      "512/512 [==============================] - 0s 24us/step - loss: 0.0329 - acc: 0.9922\n",
      "Epoch 140/150\n",
      "512/512 [==============================] - 0s 17us/step - loss: 0.0325 - acc: 0.9922\n",
      "Epoch 141/150\n",
      "512/512 [==============================] - 0s 19us/step - loss: 0.0320 - acc: 0.9922\n",
      "Epoch 142/150\n",
      "512/512 [==============================] - 0s 26us/step - loss: 0.0316 - acc: 0.9922\n",
      "Epoch 143/150\n",
      "512/512 [==============================] - 0s 23us/step - loss: 0.0313 - acc: 0.9922\n",
      "Epoch 144/150\n",
      "512/512 [==============================] - 0s 22us/step - loss: 0.0311 - acc: 0.9922\n",
      "Epoch 145/150\n",
      "512/512 [==============================] - 0s 18us/step - loss: 0.0309 - acc: 0.9922\n",
      "Epoch 146/150\n",
      "512/512 [==============================] - 0s 27us/step - loss: 0.0306 - acc: 0.9922\n",
      "Epoch 147/150\n",
      "512/512 [==============================] - 0s 20us/step - loss: 0.0304 - acc: 0.9922\n",
      "Epoch 148/150\n",
      "512/512 [==============================] - 0s 24us/step - loss: 0.0302 - acc: 0.9922\n",
      "Epoch 149/150\n",
      "512/512 [==============================] - 0s 18us/step - loss: 0.0300 - acc: 0.9922\n",
      "Epoch 150/150\n",
      "512/512 [==============================] - 0s 24us/step - loss: 0.0298 - acc: 0.9922\n"
     ]
    },
    {
     "data": {
      "text/plain": [
       "<keras.callbacks.History at 0x26606693198>"
      ]
     },
     "execution_count": 33,
     "metadata": {},
     "output_type": "execute_result"
    }
   ],
   "source": [
    "classifier.fit(X_train, y_train, batch_size=100, nb_epoch=150)"
   ]
  },
  {
   "cell_type": "markdown",
   "metadata": {},
   "source": [
    "### Convert predict in binary form"
   ]
  },
  {
   "cell_type": "code",
   "execution_count": 34,
   "metadata": {},
   "outputs": [],
   "source": [
    "#predict the test set\n",
    "y_pred = classifier.predict(X_test)\n",
    "y_pred = (y_pred>0.5)"
   ]
  },
  {
   "cell_type": "code",
   "execution_count": 35,
   "metadata": {},
   "outputs": [],
   "source": [
    "#Making the accuracy\n",
    "from sklearn.metrics import confusion_matrix\n",
    "cm = confusion_matrix(y_test, y_pred)"
   ]
  },
  {
   "cell_type": "code",
   "execution_count": 36,
   "metadata": {},
   "outputs": [
    {
     "data": {
      "text/plain": [
       "<matplotlib.axes._subplots.AxesSubplot at 0x266172de048>"
      ]
     },
     "execution_count": 36,
     "metadata": {},
     "output_type": "execute_result"
    },
    {
     "data": {
      "image/png": "[encoded data removed]",
      "text/plain": [
       "<Figure size 432x288 with 2 Axes>"
      ]
     },
     "metadata": {
      "needs_background": "light"
     },
     "output_type": "display_data"
    }
   ],
   "source": [
    "sns.heatmap(cm, annot=True)"
   ]
  },
  {
   "cell_type": "code",
   "execution_count": null,
   "metadata": {},
   "outputs": [],
   "source": []
  }
 ],
 "metadata": {
  "kernelspec": {
   "display_name": "Python 3",
   "language": "python",
   "name": "python3"
  },
  "language_info": {
   "codemirror_mode": {
    "name": "ipython",
    "version": 3
   },
   "file_extension": ".py",
   "mimetype": "text/x-python",
   "name": "python",
   "nbconvert_exporter": "python",
   "pygments_lexer": "ipython3",
   "version": "3.7.1"
  }
 },
 "nbformat": 4,
 "nbformat_minor": 2
}
